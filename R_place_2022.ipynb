{
 "cells": [
  {
   "cell_type": "markdown",
   "id": "b5d848ae-b028-4210-9d49-a280da907566",
   "metadata": {},
   "source": [
    "# r/place 2022 Data Science Project\n",
    "\n",
    "---\n",
    "\n",
    "### The Goals\n",
    "\n",
    "- Create a Heatmap of:\n",
    "    - Most changed pixels\n",
    "    - Most Bot activity\n",
    "- Find Most used Color\n",
    "- Find Suspected Bots\n",
    "- Find Most Active 'Real' user\n",
    "\n",
    "---\n",
    "\n",
    "### The Data\n",
    "\n",
    "Consists of 160,353,105 lines "
   ]
  },
  {
   "cell_type": "code",
   "execution_count": 2,
   "id": "f1ffbace-e231-48f4-b7f3-915ca8c1b395",
   "metadata": {},
   "outputs": [
    {
     "name": "stdout",
     "output_type": "stream",
     "text": [
      "Processed 160353105 lines.\n"
     ]
    }
   ],
   "source": [
    "import csv\n",
    "\n",
    "with open('AllCords.csv') as file:\n",
    "    file_reader = csv.reader(file, delimiter=',')\n",
    "    line_count = 0\n",
    "    for row in file_reader:\n",
    "        line_count += 1\n",
    "    print(f'Processed {line_count} lines.')\n",
    "    "
   ]
  },
  {
   "cell_type": "code",
   "execution_count": null,
   "id": "823fda75-3aa3-4306-98ac-1596ba06e3ca",
   "metadata": {},
   "outputs": [],
   "source": []
  }
 ],
 "metadata": {
  "kernelspec": {
   "display_name": "Python 3 (ipykernel)",
   "language": "python",
   "name": "python3"
  },
  "language_info": {
   "codemirror_mode": {
    "name": "ipython",
    "version": 3
   },
   "file_extension": ".py",
   "mimetype": "text/x-python",
   "name": "python",
   "nbconvert_exporter": "python",
   "pygments_lexer": "ipython3",
   "version": "3.10.2"
  },
  "toc-showcode": true
 },
 "nbformat": 4,
 "nbformat_minor": 5
}
